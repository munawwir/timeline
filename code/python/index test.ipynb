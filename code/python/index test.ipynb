{
 "cells": [
  {
   "cell_type": "code",
   "execution_count": 1,
   "metadata": {},
   "outputs": [],
   "source": [
    "\"\"\" Build index from directory listing\n",
    "\n",
    "index.py </path/to/directory> [--header <header text>]\n",
    "\"\"\"\n",
    "\n",
    "INDEX_TEMPLATE = r\"\"\"<!DOCTYPE html>\n",
    "<html lang=\"en-US\">\n",
    "  <head>\n",
    "    <meta charset=\"UTF-8\">\n",
    "    <meta http-equiv=\"X-UA-Compatible\" content=\"IE=edge\">\n",
    "    <meta name=\"viewport\" content=\"width=device-width, initial-scale=1\">\n",
    "\n",
    "    <!-- Begin Jekyll SEO tag v2.5.0 -->\n",
    "    <title>Yoyomanzoor Chang Lab Notebook | Yoyomanzoor-Chang-Lab-Notebook</title>\n",
    "    <meta name=\"generator\" content=\"Jekyll v3.8.5\" />\n",
    "    <meta property=\"og:title\" content=\"Lab Notebook\" />\n",
    "    <meta property=\"og:locale\" content=\"en_US\" />\n",
    "    <link rel=\"canonical\" href=\"https://yoyomanzoor.github.io/Chang-Lab-Notebook/\" />\n",
    "    <meta property=\"og:url\" content=\"https://yoyomanzoor.github.io/Chang-Lab-Notebook/\" />\n",
    "    <meta property=\"og:site_name\" content=\"Yoyomanzoor-Chang-Lab-Notebook\" />\n",
    "    <script type=\"application/ld+json\">\n",
    "    {\"@type\":\"WebSite\",\"headline\":\"Yoyomanzoor Chang Lab Notebook\",\"url\":\"https://yoyomanzoor.github.io/Chang-Lab-Notebook/\",\"name\":\"Yoyomanzoor-Chang-Lab-Notebook\",\"@context\":\"http://schema.org\"}</script>\n",
    "    <!-- End Jekyll SEO tag -->\n",
    "\n",
    "    <link rel=\"stylesheet\" href=\"/Chang-Lab-Notebook/assets/css/style.css?v=d809c76e2f6e766a03e843906627c6d32ceb6981\">\n",
    "  </head>\n",
    "  <body>\n",
    "    <div class=\"wrapper\">\n",
    "      <header>\n",
    "        <h1><a href=\"https://yoyomanzoor.github.io/Chang-Lab-Notebook/\">Yoyo's Lab Notebook</a></h1>\n",
    "\n",
    "        <p></p>\n",
    "\n",
    "        <p class=\"view\"><a href=\"https://github.com/Yoyomanzoor/Chang-Lab-Notebook\">View the Project on GitHub (private) <small>Yoyomanzoor/Chang-Lab-Notebook</small></a></p>\n",
    "\n",
    "        <!-- Insert all page links here -->\n",
    "\n",
    "        <!-- <p class=\"view\">SOPs</p>\n",
    "\n",
    "        <p class=\"view\"><a href=\"SOPs/Metabolic Cages Sterilization.html\"><i>&mdash;Metabolic Cages Equipment Sterilization</i></a></p>\n",
    "        <p class=\"view\"><a href=\"SOPs/Metabolic Cages Sterilization list.html\"><i>&mdash;Metabolic Cages List of items and sterilization methods</i></a></p>\n",
    "        <p class=\"view\"><a href=\"SOPs/Metabolic Cages GF setup and calibration.html\"><i>&mdash;Metabolic Cages GF experiment setup and calibration</i></a></p> -->\n",
    "\n",
    "      </header>\n",
    "      <section>\n",
    "        <h1 id=\"Chang-Lab-Notebook\">Yoyo's Lab Notebook</h1>\n",
    "        <h4><a href=\"https://changlab.uchicago.edu\">The Chang Lab</a> at the University of Chicago<br>Knapp Center for Biomedical Discovery</h4>\n",
    "\n",
    "        <p></br></p>\n",
    "\n",
    "        <!-- Insert main content here -->\n",
    "        \n",
    "        <h2>${header}</h2>\n",
    "\n",
    "        <p>\n",
    "          % for i in range(len(names)):\n",
    "            <li><a href=\"${title[i]}\">${names[i]}</a></li>\n",
    "          % endfor\n",
    "        </p>\n",
    "\n",
    "        <p>\n",
    "          Indexed site only contains some information. For access to complete GitHub repo and notebook, email <a href=\"mailto:smanzoor@uchicago.edu\">smanzoor@uchicago.edu</a>.\n",
    "        </p>\n",
    "\n",
    "      </section>\n",
    "      <footer>\n",
    "\n",
    "        <p><small>This notebook is maintained by <a href=\"https://github.com/Yoyomanzoor\">Yoyomanzoor</a></small></p>\n",
    "\n",
    "      </footer>\n",
    "    </div>\n",
    "    <script src=\"/Chang-Lab-Notebook/assets/js/scale.fix.js\"></script>\n",
    "\n",
    " </body>\n",
    "</html>\n",
    "\"\"\""
   ]
  },
  {
   "cell_type": "code",
   "execution_count": 4,
   "metadata": {},
   "outputs": [],
   "source": [
    "import os\n",
    "import glob\n",
    "import argparse\n",
    "from itertools import chain\n",
    "# May need to do \"pip install mako\"\n",
    "from mako.template import Template"
   ]
  },
  {
   "cell_type": "code",
   "execution_count": 5,
   "metadata": {},
   "outputs": [],
   "source": [
    "def get_html_title(file):\n",
    "    with open(file, \"r\", errors=\"ignore\") as f:\n",
    "        for line in f:\n",
    "            if \"</title>\" in line:\n",
    "                title = (line.split(\"<title>\")[1].split(\"</title>\")[0])\n",
    "                break\n",
    "    return(title)"
   ]
  },
  {
   "cell_type": "code",
   "execution_count": 6,
   "metadata": {},
   "outputs": [],
   "source": [
    "from dateutil.parser import parse\n",
    "\n",
    "def is_date(string, fuzzy=True):\n",
    "    try: \n",
    "        parse(string, fuzzy=fuzzy)\n",
    "        return True\n",
    "    except ValueError:\n",
    "        return False"
   ]
  },
  {
   "cell_type": "code",
   "execution_count": 55,
   "metadata": {},
   "outputs": [],
   "source": [
    "Ignore = False\n",
    "Header = True"
   ]
  },
  {
   "cell_type": "code",
   "execution_count": 36,
   "metadata": {},
   "outputs": [],
   "source": [
    "EXCLUDED = ['index.html','.ignore', '.header']\n",
    "\n",
    "if Ignore:\n",
    "    f = open(\".ignore\",\"r\").read()\n",
    "    to_parse = [i for i in f.split(\"\\n\") if i[:1] == \"*\"]\n",
    "    f = [i for i in f.split(\"\\n\") if i not in to_parse]\n",
    "    f = list(filter(None, f))\n",
    "    EXCLUDED += list(chain(f,*[glob.glob(i) for i in to_parse]))\n",
    "\n",
    "fnames = [fname for fname in sorted(os.listdir(os.getcwd()))\n",
    "          if fname not in EXCLUDED]\n",
    "names = [i[:-3] + \".html\" if i[-3:] == \".md\" else i for i in fnames]"
   ]
  },
  {
   "cell_type": "code",
   "execution_count": 56,
   "metadata": {},
   "outputs": [],
   "source": [
    "if Header:\n",
    "    CUSTOM = open(\".header\",\"r\").read()\n",
    "    CUSTOM = [i + \" <i>subdir</i>\" for i in CUSTOM.split(\"\\n\")]\n",
    "    CUSTOM = dict(zip([i.split(\"|\")[1] for i in CUSTOM], CUSTOM))\n",
    "    fnames = [\"<b>\" + CUSTOM[i].split(\"|\")[1] + \"</b> \" + \" \".join(CUSTOM[i].split(\"|\")[2:]) if i in CUSTOM.keys() else i for i in fnames]"
   ]
  },
  {
   "cell_type": "code",
   "execution_count": 53,
   "metadata": {},
   "outputs": [],
   "source": [
    "markdown = dict(zip([i for i in fnames if i[-3:] == \".md\"], [\"<b>\" + i[:-3] + \"</b> \" + \" \".join(open(i, \"r\", errors='ignore').read().split(\"\\n\")[0].split(\" \")[1:]) for i in fnames if i[-3:] == \".md\"]))\n",
    "\n",
    "html = dict(zip([i for i in fnames if i[-5:] == \".html\"], [\"<b>\" + i[:-5] + \"</b> \" + get_html_title(i) for i in fnames if i[-5:] == \".html\"]))\n",
    "\n",
    "fnames = [markdown[i] if i in markdown.keys() else i for i in fnames]\n",
    "fnames = [html[i] if i in html.keys() else i for i in fnames]"
   ]
  },
  {
   "cell_type": "code",
   "execution_count": 11,
   "metadata": {
    "collapsed": true
   },
   "outputs": [
    {
     "name": "stdout",
     "output_type": "stream",
     "text": [
      "<!DOCTYPE html>\n",
      "<html lang=\"en-US\">\n",
      "  <head>\n",
      "    <meta charset=\"UTF-8\">\n",
      "    <meta http-equiv=\"X-UA-Compatible\" content=\"IE=edge\">\n",
      "    <meta name=\"viewport\" content=\"width=device-width, initial-scale=1\">\n",
      "\n",
      "    <!-- Begin Jekyll SEO tag v2.5.0 -->\n",
      "    <title>Yoyomanzoor Chang Lab Notebook | Yoyomanzoor-Chang-Lab-Notebook</title>\n",
      "    <meta name=\"generator\" content=\"Jekyll v3.8.5\" />\n",
      "    <meta property=\"og:title\" content=\"Lab Notebook\" />\n",
      "    <meta property=\"og:locale\" content=\"en_US\" />\n",
      "    <link rel=\"canonical\" href=\"https://yoyomanzoor.github.io/Chang-Lab-Notebook/\" />\n",
      "    <meta property=\"og:url\" content=\"https://yoyomanzoor.github.io/Chang-Lab-Notebook/\" />\n",
      "    <meta property=\"og:site_name\" content=\"Yoyomanzoor-Chang-Lab-Notebook\" />\n",
      "    <script type=\"application/ld+json\">\n",
      "    {\"@type\":\"WebSite\",\"headline\":\"Yoyomanzoor Chang Lab Notebook\",\"url\":\"https://yoyomanzoor.github.io/Chang-Lab-Notebook/\",\"name\":\"Yoyomanzoor-Chang-Lab-Notebook\",\"@context\":\"http://schema.org\"}</script>\n",
      "    <!-- End Jekyll SEO tag -->\n",
      "\n",
      "    <link rel=\"stylesheet\" href=\"/Chang-Lab-Notebook/assets/css/style.css?v=d809c76e2f6e766a03e843906627c6d32ceb6981\">\n",
      "  </head>\n",
      "  <body>\n",
      "    <div class=\"wrapper\">\n",
      "      <header>\n",
      "        <h1><a href=\"https://yoyomanzoor.github.io/Chang-Lab-Notebook/\">Yoyo's Lab Notebook</a></h1>\n",
      "\n",
      "        <p></p>\n",
      "\n",
      "        <p class=\"view\"><a href=\"https://github.com/Yoyomanzoor/Chang-Lab-Notebook\">View the Project on GitHub (private) <small>Yoyomanzoor/Chang-Lab-Notebook</small></a></p>\n",
      "\n",
      "        <!-- Insert all page links here -->\n",
      "\n",
      "        <!-- <p class=\"view\">SOPs</p>\n",
      "\n",
      "        <p class=\"view\"><a href=\"SOPs/Metabolic Cages Sterilization.html\"><i>&mdash;Metabolic Cages Equipment Sterilization</i></a></p>\n",
      "        <p class=\"view\"><a href=\"SOPs/Metabolic Cages Sterilization list.html\"><i>&mdash;Metabolic Cages List of items and sterilization methods</i></a></p>\n",
      "        <p class=\"view\"><a href=\"SOPs/Metabolic Cages GF setup and calibration.html\"><i>&mdash;Metabolic Cages GF experiment setup and calibration</i></a></p> -->\n",
      "\n",
      "      </header>\n",
      "      <section>\n",
      "        <h1 id=\"Chang-Lab-Notebook\">Yoyo's Lab Notebook</h1>\n",
      "        <h4><a href=\"https://changlab.uchicago.edu\">The Chang Lab</a> at the University of Chicago<br>Knapp Center for Biomedical Discovery</h4>\n",
      "\n",
      "        <p></br></p>\n",
      "\n",
      "        <!-- Insert main content here -->\n",
      "        \n",
      "        <h2>notebook</h2>\n",
      "\n",
      "        <p>\n",
      "            <li><a href=\".ipynb_checkpoints\">.ipynb_checkpoints</a></li>\n",
      "            <li><a href=\"2019.11.07.html\">2019.11.07 Setting up cages for GF Sable System experiment</a></li>\n",
      "            <li><a href=\"2019.11.08.html\">2019.11.08 Setting up cages for GF Sable System experiment</a></li>\n",
      "            <li><a href=\"2019.11.11.html\">2019.11.11 Setting up cages for GF Sable System experiment</a></li>\n",
      "            <li><a href=\"2019.11.14.html\">2019.11.14 Setting up cages for GF Sable System experiment</a></li>\n",
      "            <li><a href=\"2019.11.21.html\">2019.11.21 Initial metabolic cages GF experiment</a></li>\n",
      "            <li><a href=\"2019.11.22.html\">2019.11.22 Initial metabolic cages GF experiment fecal processing</a></li>\n",
      "            <li><a href=\"2019.11.25.html\">2019.11.25 Initial metabolic cages GF experiment</a></li>\n",
      "            <li><a href=\"2019.12.05.html\">2019.12.05 `nperm` value fgsea testing</a></li>\n",
      "            <li><a href=\"2019.12.09.html\">2019.12.09 WT vs Bmal KO mice GF metabolic cage experiment</a></li>\n",
      "            <li><a href=\"2019.12.31.html\">2019.12.31 ANCOVA of SPF vs GF mice</a></li>\n",
      "            <li><a href=\"2020.02.06.html\">2020.02.06 Making SPF gavage solution for GF mice conventionalization</a></li>\n",
      "            <li><a href=\"2020.02.14.html\">2020.02.14 Making SPF gavage solution for GF mice conventionalization</a></li>\n",
      "            <li><a href=\"2020.02.18.html\">2020.02.18 Throwing out Creeping Fat preservative tubes</a></li>\n",
      "            <li><a href=\"2020.02.24.html\">2020.02.24 E14 Growth Curve</a></li>\n",
      "            <li><a href=\"2020.03.02.html\">2020.03.02 Obesity Pilot Study</a></li>\n",
      "            <li><a href=\"2020.03.12.html\">2020.03.12 E14 Growth Curve</a></li>\n",
      "            <li><a href=\"2020.03.31.html\">2020.03.31 Metabolic cages data analysis</a></li>\n",
      "            <li><a href=\"2020.04.11.html\">2020.04.11 RNA Seq differential analysis and pathway analysis R notebook</a></li>\n",
      "            <li><a href=\"2020.04.15.html\">2020.04.15 The DAVID Pipe</a></li>\n",
      "            <li><a href=\"2020.04.17.html\">2020.04.17 LimoRhyde Notes</a></li>\n",
      "            <li><a href=\"2020.04.24.html\">2020.04.24 Accessing midway files on Linux and MacOS</a></li>\n",
      "            <li><a href=\"2020.04.25.html\">2020.04.25 How to make executable shell scripts in Linux distributions</a></li>\n",
      "            <li><a href=\"2020.05.07.html\">2020.05.07 Normalizing 16S data using DESeq</a></li>\n",
      "            <li><a href=\"2020.05.08.html\">2020.05.08 Normalizing RNA Seq data using DESeq</a></li>\n",
      "            <li><a href=\"2020.05.14.html\">2020.05.14 Setting up R in Midway to render R notebooks</a></li>\n",
      "            <li><a href=\"2020.05.15.html\">2020.05.15 PCA of RMR data from metabolic cages</a></li>\n",
      "            <li><a href=\"2020.05.23.html\">2020.05.23 Relative cumulative frequency of RMR data from metabolic cages</a></li>\n",
      "            <li><a href=\"2020.05.24.html\">2020.05.24 RCF and PCA of WT vs L-Bmal1-KO RMR data from metabolic cages</a></li>\n",
      "            <li><a href=\"2020.05.28.html\">2020.05.28 The microbiome and metabolism</a></li>\n",
      "            <li><a href=\"2020.07.07.html\">2020.07.07 RCF and PCA of WT vs L-Bmal1-KO RMR wheel data from metabolic cages</a></li>\n",
      "            <li><a href=\"2020.07.08\">2020.07.08</a></li>\n",
      "            <li><a href=\"2020.07.19.html\">2020.07.19 Generating Category-organized fGSEA figure WT SPF vs GF</a></li>\n",
      "            <li><a href=\"2020.09.03.html\">2020.09.03 Useful code for working with mice gene annotations</a></li>\n",
      "            <li><a href=\"2020.09.25\">2020.09.25</a></li>\n",
      "            <li><a href=\"Deseq2_fgsea_tutorial_files\">Deseq2_fgsea_tutorial_files</a></li>\n",
      "            <li><a href=\"images\">images</a></li>\n",
      "            <li><a href=\"index test.ipynb\">index test.ipynb</a></li>\n",
      "            <li><a href=\"template.html\">template Experiment title</a></li>\n",
      "            <li><a href=\"test.html\">test plotly-logomark</a></li>\n",
      "        </p>\n",
      "\n",
      "        <p>\n",
      "          Indexed site only contains some information. For access to complete GitHub repo and notebook, email <a href=\"mailto:smanzoor@uchicago.edu\">smanzoor@uchicago.edu</a>.\n",
      "        </p>\n",
      "\n",
      "      </section>\n",
      "      <footer>\n",
      "\n",
      "        <p><small>This notebook is maintained by <a href=\"https://github.com/Yoyomanzoor\">Yoyomanzoor</a></small></p>\n",
      "\n",
      "      </footer>\n",
      "    </div>\n",
      "    <script src=\"/Chang-Lab-Notebook/assets/js/scale.fix.js\"></script>\n",
      "\n",
      " </body>\n",
      "</html>\n",
      "\n"
     ]
    }
   ],
   "source": [
    "header = os.path.basename(os.getcwd())\n",
    "print(Template(INDEX_TEMPLATE).render(names=fnames, header=header, title=names))"
   ]
  },
  {
   "cell_type": "code",
   "execution_count": 29,
   "metadata": {},
   "outputs": [
    {
     "data": {
      "text/plain": [
       "['2020.09.03.html']"
      ]
     },
     "execution_count": 29,
     "metadata": {},
     "output_type": "execute_result"
    }
   ],
   "source": [
    "[i for i in fnames if i[-5:] == \".html\" and is_date(i)]"
   ]
  }
 ],
 "metadata": {
  "kernelspec": {
   "display_name": "Python 3",
   "language": "python",
   "name": "python3"
  },
  "language_info": {
   "codemirror_mode": {
    "name": "ipython",
    "version": 3
   },
   "file_extension": ".py",
   "mimetype": "text/x-python",
   "name": "python",
   "nbconvert_exporter": "python",
   "pygments_lexer": "ipython3",
   "version": "3.7.3"
  },
  "latex_envs": {
   "LaTeX_envs_menu_present": true,
   "autoclose": false,
   "autocomplete": true,
   "bibliofile": "biblio.bib",
   "cite_by": "apalike",
   "current_citInitial": 1,
   "eqLabelWithNumbers": true,
   "eqNumInitial": 1,
   "hotkeys": {
    "equation": "Ctrl-E",
    "itemize": "Ctrl-I"
   },
   "labels_anchors": false,
   "latex_user_defs": false,
   "report_style_numbering": false,
   "user_envs_cfg": false
  },
  "toc": {
   "base_numbering": 1,
   "nav_menu": {},
   "number_sections": true,
   "sideBar": false,
   "skip_h1_title": false,
   "title_cell": "Table of Contents",
   "title_sidebar": "Contents",
   "toc_cell": false,
   "toc_position": {},
   "toc_section_display": false,
   "toc_window_display": false
  },
  "varInspector": {
   "cols": {
    "lenName": 16,
    "lenType": 16,
    "lenVar": 40
   },
   "kernels_config": {
    "python": {
     "delete_cmd_postfix": "",
     "delete_cmd_prefix": "del ",
     "library": "var_list.py",
     "varRefreshCmd": "print(var_dic_list())"
    },
    "r": {
     "delete_cmd_postfix": ") ",
     "delete_cmd_prefix": "rm(",
     "library": "var_list.r",
     "varRefreshCmd": "cat(var_dic_list()) "
    }
   },
   "types_to_exclude": [
    "module",
    "function",
    "builtin_function_or_method",
    "instance",
    "_Feature"
   ],
   "window_display": false
  }
 },
 "nbformat": 4,
 "nbformat_minor": 2
}
