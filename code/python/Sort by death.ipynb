{
 "cells": [
  {
   "cell_type": "code",
   "execution_count": 1,
   "id": "c3432367-050f-40e9-b999-7095e0227bca",
   "metadata": {},
   "outputs": [],
   "source": [
    "import os\n",
    "import glob\n",
    "import argparse\n",
    "from itertools import chain\n",
    "from dateutil.parser import parse\n",
    "# May need to do \"pip install mako\"\n",
    "from mako.template import Template"
   ]
  },
  {
   "cell_type": "code",
   "execution_count": 49,
   "id": "26702696-67b6-414c-b978-73b7b93ae857",
   "metadata": {},
   "outputs": [],
   "source": [
    "EXCLUDED = ['index.html','.ignore', '.header', 'template.md']"
   ]
  },
  {
   "cell_type": "code",
   "execution_count": 3,
   "id": "faa2bc84-5f41-42f6-83dc-875035b5562a",
   "metadata": {},
   "outputs": [],
   "source": [
    "dir = \"../../bio/\""
   ]
  },
  {
   "cell_type": "code",
   "execution_count": 15,
   "id": "ab6498bd-2411-4563-a436-06688fe59c3a",
   "metadata": {},
   "outputs": [],
   "source": [
    "os.chdir(dir)"
   ]
  },
  {
   "cell_type": "code",
   "execution_count": 4,
   "id": "306de76e-4d46-4bc8-9dee-c5dfd8bf1da7",
   "metadata": {},
   "outputs": [],
   "source": [
    "header = \"Biographies\""
   ]
  },
  {
   "cell_type": "code",
   "execution_count": 259,
   "id": "dea94f2f-1b47-4d53-a6da-77cdc498101b",
   "metadata": {},
   "outputs": [],
   "source": [
    "fnames = [fname for fname in sorted(os.listdir()) if fname not in EXCLUDED and fname[-3:] == \".md\"]"
   ]
  },
  {
   "cell_type": "code",
   "execution_count": 260,
   "id": "a5c566a5-9de1-44f0-a584-88590921da4c",
   "metadata": {},
   "outputs": [],
   "source": [
    "content = [open(i, \"r\", errors=\"ignore\").read() for i in fnames]"
   ]
  },
  {
   "cell_type": "code",
   "execution_count": 261,
   "id": "195331b0-39e2-4282-bb32-23841b400b75",
   "metadata": {
    "tags": []
   },
   "outputs": [],
   "source": [
    "[i.split(\"\\n\")[1].split(\"-\")[1].split(\" \")[1] for i in content]\n",
    "[i.split(\"/\")[0] for i in _]\n",
    "deathYears = [int(i.split(\"~\")[1]) if \"~\" in i else int(i) for i in _]"
   ]
  },
  {
   "cell_type": "code",
   "execution_count": 270,
   "id": "9a19a3e8-3ae0-44dd-a57b-fe42dfd68e06",
   "metadata": {},
   "outputs": [],
   "source": [
    "markdown = dict(zip(fnames, [[\"<b>\" + str(deathYears[i]) + \"</b> \" + \" \".join(content[i].split(\"\\n\")[0].split(\" \")[1:]), deathYears[i]] for i in range(len(fnames))]))"
   ]
  },
  {
   "cell_type": "code",
   "execution_count": 277,
   "id": "607825f3-bfb8-45c8-9d9f-14ae595c3699",
   "metadata": {},
   "outputs": [],
   "source": [
    "markdown = dict(sorted(markdown.items(), key=lambda item: item[1][1]))"
   ]
  },
  {
   "cell_type": "code",
   "execution_count": 286,
   "id": "7755d7a9-1339-48e2-8af3-68b3d2a0a15e",
   "metadata": {
    "tags": []
   },
   "outputs": [],
   "source": [
    "links = [i[:-3] if i[-3:] == \".md\" else i for i in  list(markdown.keys())]"
   ]
  },
  {
   "cell_type": "code",
   "execution_count": 291,
   "id": "f20735df-9fb9-49d4-bea2-f0cbbf1f1f67",
   "metadata": {},
   "outputs": [],
   "source": [
    "markdown = [i[0] for i in list(markdown.values())]"
   ]
  },
  {
   "cell_type": "code",
   "execution_count": null,
   "id": "acea9854-6e88-4bf1-9f34-901418e530d7",
   "metadata": {},
   "outputs": [],
   "source": []
  },
  {
   "cell_type": "code",
   "execution_count": null,
   "id": "7a35ec51-d304-4fbc-92a4-1afe7c173765",
   "metadata": {},
   "outputs": [],
   "source": []
  },
  {
   "cell_type": "code",
   "execution_count": null,
   "id": "fd99f73e-be70-4191-9fe7-b1d38fd488b5",
   "metadata": {},
   "outputs": [],
   "source": []
  },
  {
   "cell_type": "code",
   "execution_count": null,
   "id": "a4631dbc-146c-4229-b700-0d297f364cbd",
   "metadata": {},
   "outputs": [],
   "source": []
  },
  {
   "cell_type": "code",
   "execution_count": 220,
   "id": "bf7520b4-5502-4d7f-b706-a42762485811",
   "metadata": {},
   "outputs": [],
   "source": [
    "mlist = []\n",
    "for v1, v2 in markdown.items():\n",
    "    mlist.append([v1,v2])"
   ]
  },
  {
   "cell_type": "code",
   "execution_count": null,
   "id": "79d8bd5e-7549-4a2a-a1e1-c9dc34caef8f",
   "metadata": {
    "collapsed": true,
    "jupyter": {
     "outputs_hidden": true
    },
    "tags": []
   },
   "outputs": [
    {
     "data": {
      "text/plain": [
       "['0497_Abd_al_Muttalib',\n",
       " '0500_Abrahah',\n",
       " '0535_Abu_Talib',\n",
       " '0546_Abdullah',\n",
       " '0549_Aminah',\n",
       " '0549_abu_lahab',\n",
       " '0555_Khadija',\n",
       " '0562_Ubaydah',\n",
       " '0563_Utbah',\n",
       " '0565_Abbas',\n",
       " '0565_Abu_Sufyan',\n",
       " '0567_Ammar',\n",
       " '0568_Hamzah',\n",
       " '0570_Abu_jahl',\n",
       " '0570_Rasulullah',\n",
       " '0570_Walid',\n",
       " '0573_Abu_bakr',\n",
       " '0573_Uthman',\n",
       " '0580_Bilal',\n",
       " '0581_Abdurrahman',\n",
       " '0581_Zayd',\n",
       " '0583_Abu_ubayda',\n",
       " '0583_Umar',\n",
       " '0587_Khabbab',\n",
       " '0587_Shuayb',\n",
       " '0590_Sad',\n",
       " '0593_Said',\n",
       " '0594_Abdullah_ibn_Masud',\n",
       " '0594_Musab',\n",
       " '0594_Talhah',\n",
       " '0594_Zubayr',\n",
       " '0595_Sad',\n",
       " '0597_Arqam',\n",
       " '0600_Ali',\n",
       " '0601_Zainab',\n",
       " '0604_Rukayyah',\n",
       " '0605_Umm_Kulthum',\n",
       " '0606_Fatimah',\n",
       " '1913_Abul_Hasan_Ali_Nadwi',\n",
       " 'Asad_ibn_Zurarah',\n",
       " 'Bahira',\n",
       " 'Halimah',\n",
       " 'Thuwaybah',\n",
       " 'Umayyah_ibn_khalaf',\n",
       " 'Usayd_ibn_Hudayr',\n",
       " 'Utbah_ibn_abi_muit',\n",
       " 'Uthman_ibn_mazun',\n",
       " 'Uthman_ibn_talhah',\n",
       " 'Waraqah']"
      ]
     },
     "execution_count": 204,
     "metadata": {},
     "output_type": "execute_result"
    }
   ],
   "source": [
    "[i[0][:-3] if i[0][-3:] == \".md\" else i for i in mlist]"
   ]
  },
  {
   "cell_type": "code",
   "execution_count": 231,
   "id": "53b38975-13ee-4504-8151-f94782fd09d1",
   "metadata": {
    "tags": []
   },
   "outputs": [],
   "source": [
    "markdown = dict([i[1] for i in sorted(dict(zip(deathYears, mlist)).items())])"
   ]
  },
  {
   "cell_type": "code",
   "execution_count": null,
   "id": "a3550908-f793-445e-8786-b79e055f0889",
   "metadata": {},
   "outputs": [],
   "source": [
    "# markdown = dict(zip(m_fnames, [\"<b>\" + m_content[i].split(\"\\n\")[1].split(\" \")[1] + \"</b> \" + \" \".join(m_content[i].split(\"\\n\")[0].split(\" \")[1:]) for i in range(len(m_fnames))]))"
   ]
  },
  {
   "cell_type": "code",
   "execution_count": null,
   "id": "f9bcfd2f-0643-4f78-98b6-47e750531db8",
   "metadata": {},
   "outputs": [
    {
     "data": {
      "text/plain": [
       "('0497_Abd_al_Muttalib.md', '<b>578</b> Abd al-Muttalib ibn Hashim')"
      ]
     },
     "execution_count": 184,
     "metadata": {},
     "output_type": "execute_result"
    }
   ],
   "source": [
    "list(markdown.items())[0]"
   ]
  },
  {
   "cell_type": "code",
   "execution_count": null,
   "id": "b0474266-1496-47ee-992e-b8e1e2652741",
   "metadata": {},
   "outputs": [],
   "source": [
    "fnames = [markdown[i] if i in markdown.keys() else i for i in fnames]"
   ]
  }
 ],
 "metadata": {
  "kernelspec": {
   "display_name": "Python 3",
   "language": "python",
   "name": "python3"
  },
  "language_info": {
   "codemirror_mode": {
    "name": "ipython",
    "version": 3
   },
   "file_extension": ".py",
   "mimetype": "text/x-python",
   "name": "python",
   "nbconvert_exporter": "python",
   "pygments_lexer": "ipython3",
   "version": "3.8.12"
  }
 },
 "nbformat": 4,
 "nbformat_minor": 5
}
